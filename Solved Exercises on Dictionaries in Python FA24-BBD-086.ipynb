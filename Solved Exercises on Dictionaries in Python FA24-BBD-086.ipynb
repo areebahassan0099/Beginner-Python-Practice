{
 "cells": [
  {
   "cell_type": "code",
   "execution_count": null,
   "id": "4987ce45-e697-4033-b788-183e595accd4",
   "metadata": {},
   "outputs": [],
   "source": [
    "#Practice excercise \"a\"\n",
    "thisdict = {\n",
    "    \"name\": \"Areeba\"\n",
    "    \"age\": \"19\"\n",
    "    \"hobbies\": \"baking\"\n",
    "}\n",
    "    "
   ]
  },
  {
   "cell_type": "code",
   "execution_count": 5,
   "id": "25e4ed42-a562-405b-bed0-b2da074c6294",
   "metadata": {},
   "outputs": [
    {
     "name": "stdin",
     "output_type": "stream",
     "text": [
      "Enter any text is is is\n"
     ]
    },
    {
     "name": "stdout",
     "output_type": "stream",
     "text": [
      "\n",
      " Word count\n",
      "is: 3\n"
     ]
    }
   ],
   "source": [
    "#Practice excercise \"b\"\n",
    "x = input(\"Enter any text\")\n",
    "words = x.split()\n",
    "word_count = {}\n",
    "\n",
    "for word in words:\n",
    "    word = word.lower()\n",
    "    if word in word_count:\n",
    "        word_count[word] += 1\n",
    "    else:\n",
    "        word_count[word] = 1\n",
    "        \n",
    "print(\"\\n Word count\")\n",
    "for word, count in word_count.items():\n",
    "    print(f\"{word}: {count}\")"
   ]
  },
  {
   "cell_type": "code",
   "execution_count": 50,
   "id": "8fe7a82a-06b1-4a73-acf4-d475502edc55",
   "metadata": {},
   "outputs": [
    {
     "name": "stdout",
     "output_type": "stream",
     "text": [
      "\n",
      "Inventory System\n",
      "1. Add new item\n",
      "2. Update Quantity\n",
      "3. Delete Item\n",
      "4. View Inventory\n",
      "5. Exit\n"
     ]
    },
    {
     "name": "stdin",
     "output_type": "stream",
     "text": [
      "Enter your choice (1-5):  5\n"
     ]
    },
    {
     "name": "stdout",
     "output_type": "stream",
     "text": [
      "Exiting Inventory System. Goodbye!\n"
     ]
    }
   ],
   "source": [
    "#Practice excercise \"c\"\n",
    "inventory = {}\n",
    "\n",
    "# Display menu\n",
    "def display_menu():\n",
    "    print(\"\\nInventory System\")\n",
    "    print(\"1. Add new item\")\n",
    "    print(\"2. Update Quantity\")\n",
    "    print(\"3. Delete Item\")\n",
    "    print(\"4. View Inventory\")\n",
    "    print(\"5. Exit\")\n",
    "    \n",
    "def add_item():\n",
    "    name = input(\"Enter item name: \").strip()\n",
    "    if name in inventory:\n",
    "        print(f\"Item '{name}' already exists with quantity {inventory[name]} would you like to update it? \")\n",
    "    else:\n",
    "        quantity = int(input(\"Enter quantity: \"))\n",
    "        inventory[name] = quantity\n",
    "        print(f\"Item '{name}' added successfully.\")\n",
    "\n",
    "def update_item():\n",
    "    name = input(\"Enter item name to update: \").strip()\n",
    "    if name in inventory:\n",
    "        quantity = int(input(\"Enter new quantity: \"))\n",
    "        inventory[name] = quantity\n",
    "        print(f\"Item '{name}' updated successfully.\")\n",
    "    else:\n",
    "        print(\"Item is not in inventory.\")\n",
    "\n",
    "def delete_item():\n",
    "    name = input(\"Enter item name to delete: \").strip()\n",
    "    if name in inventory:\n",
    "        del inventory[name]\n",
    "        print(f\"Item '{name}' deleted successfully.\")\n",
    "    else:\n",
    "        print(\"Item not found in inventory.\")\n",
    "\n",
    "def view_inventory():\n",
    "    if inventory:\n",
    "        print(\"\\nCurrent Inventory:\")\n",
    "        print(f\"{'Item':<15} {'Quantity':<10}\")\n",
    "        for item, quantity in inventory.items():\n",
    "            print(f\"{item:<15} {quantity:<10}\")\n",
    "    else:\n",
    "        print(\"Inventory is empty.\")\n",
    "\n",
    "while True:\n",
    "    display_menu()\n",
    "    choice = input(\"Enter your choice (1-5): \").strip()\n",
    "    if choice == \"1\":\n",
    "        add_item()\n",
    "    elif choice == \"2\":\n",
    "        update_item()\n",
    "    elif choice == \"3\":\n",
    "        delete_item()\n",
    "    elif choice == \"4\":\n",
    "        view_inventory()\n",
    "    elif choice == \"5\":\n",
    "        print(\"Exiting Inventory System. Goodbye!\")\n",
    "        break\n",
    "    else:\n",
    "        print(\"Invalid choice. Please try again.\")\n"
   ]
  },
  {
   "cell_type": "code",
   "execution_count": 10,
   "id": "d6d0286e-762e-4812-9e9b-c19006c71a53",
   "metadata": {},
   "outputs": [
    {
     "name": "stdout",
     "output_type": "stream",
     "text": [
      "Category Counts: {'Beauty': 3, 'Home': 4, 'Bakery': 3}\n",
      "Most Popular Category: Home with 4 orders.\n"
     ]
    }
   ],
   "source": [
    "#Pracrice excercise \"d\"\n",
    "orders = [\n",
    "    \"Beauty\", \"Home\", \"Bakery\", \"Beauty\", \n",
    "    \"Bakery\", \"Home\", \"Beauty\", \"Home\", \n",
    "    \"Bakery\", \"Home\"\n",
    "]\n",
    "category_count = {}\n",
    "for category in orders:\n",
    "    category_count[category] = category_count.get(category, 0) + 1\n",
    "\n",
    "most_popular_category = max(category_count, key=category_count.get)\n",
    "\n",
    "print(\"Category Counts:\", category_count)\n",
    "print(f\"Most Popular Category: {most_popular_category} with {category_count[most_popular_category]} orders.\")\n"
   ]
  },
  {
   "cell_type": "code",
   "execution_count": 36,
   "id": "61982586-77b1-445c-b1b8-0b7daf0e3ac5",
   "metadata": {},
   "outputs": [
    {
     "name": "stdout",
     "output_type": "stream",
     "text": [
      "70.0\n"
     ]
    }
   ],
   "source": [
    "#Practice excercise \"e\"\n",
    "grades_list = {\n",
    "    \"grade1\": 70,\n",
    "    \"grade2\": 80,\n",
    "    \"grade3\": 30,\n",
    "    \"grade4\": 100\n",
    " }\n",
    "x = sum(grades_list.values())\n",
    "y = len(grades_list)\n",
    "avg= x/y\n",
    "print(avg)"
   ]
  },
  {
   "cell_type": "code",
   "execution_count": 56,
   "id": "269b14aa-2173-41f8-92db-42b44bbdfcd5",
   "metadata": {},
   "outputs": [
    {
     "name": "stdout",
     "output_type": "stream",
     "text": [
      "\n",
      "Products Management\n",
      "1. Add New Product\n",
      "2. Update Product Quantity\n",
      "3. Calculate Total Products Value\n",
      "4. Display Products\n",
      "5. Low Stock Report\n",
      "6. Exit\n"
     ]
    },
    {
     "name": "stdin",
     "output_type": "stream",
     "text": [
      "Enter your choice (1-6):  5\n"
     ]
    },
    {
     "name": "stdout",
     "output_type": "stream",
     "text": [
      "No low-stock items.\n",
      "\n",
      "Products Management\n",
      "1. Add New Product\n",
      "2. Update Product Quantity\n",
      "3. Calculate Total Products Value\n",
      "4. Display Products\n",
      "5. Low Stock Report\n",
      "6. Exit\n"
     ]
    },
    {
     "name": "stdin",
     "output_type": "stream",
     "text": [
      "Enter your choice (1-6):  1\n",
      "Enter product name:  apple\n",
      "Enter product quantity:  2\n",
      "Enter product price:  4\n"
     ]
    },
    {
     "name": "stdout",
     "output_type": "stream",
     "text": [
      "Product 'apple' added successfully.\n",
      "\n",
      "Products Management\n",
      "1. Add New Product\n",
      "2. Update Product Quantity\n",
      "3. Calculate Total Products Value\n",
      "4. Display Products\n",
      "5. Low Stock Report\n",
      "6. Exit\n"
     ]
    },
    {
     "name": "stdin",
     "output_type": "stream",
     "text": [
      "Enter your choice (1-6):  1\n",
      "Enter product name:  bannana\n",
      "Enter product quantity:  29\n",
      "Enter product price:  2\n"
     ]
    },
    {
     "name": "stdout",
     "output_type": "stream",
     "text": [
      "Product 'bannana' added successfully.\n",
      "\n",
      "Products Management\n",
      "1. Add New Product\n",
      "2. Update Product Quantity\n",
      "3. Calculate Total Products Value\n",
      "4. Display Products\n",
      "5. Low Stock Report\n",
      "6. Exit\n"
     ]
    },
    {
     "name": "stdin",
     "output_type": "stream",
     "text": [
      "Enter your choice (1-6):  1 \n"
     ]
    },
    {
     "name": "stdout",
     "output_type": "stream",
     "text": [
      "Invalid choice. Please try again.\n",
      "\n",
      "Products Management\n",
      "1. Add New Product\n",
      "2. Update Product Quantity\n",
      "3. Calculate Total Products Value\n",
      "4. Display Products\n",
      "5. Low Stock Report\n",
      "6. Exit\n"
     ]
    },
    {
     "name": "stdin",
     "output_type": "stream",
     "text": [
      "Enter your choice (1-6):  grapes\n"
     ]
    },
    {
     "name": "stdout",
     "output_type": "stream",
     "text": [
      "Invalid choice. Please try again.\n",
      "\n",
      "Products Management\n",
      "1. Add New Product\n",
      "2. Update Product Quantity\n",
      "3. Calculate Total Products Value\n",
      "4. Display Products\n",
      "5. Low Stock Report\n",
      "6. Exit\n"
     ]
    },
    {
     "name": "stdin",
     "output_type": "stream",
     "text": [
      "Enter your choice (1-6):  1\n",
      "Enter product name:  grapes\n",
      "Enter product quantity:  23\n",
      "Enter product price:  12\n"
     ]
    },
    {
     "name": "stdout",
     "output_type": "stream",
     "text": [
      "Product 'grapes' added successfully.\n",
      "\n",
      "Products Management\n",
      "1. Add New Product\n",
      "2. Update Product Quantity\n",
      "3. Calculate Total Products Value\n",
      "4. Display Products\n",
      "5. Low Stock Report\n",
      "6. Exit\n"
     ]
    },
    {
     "name": "stdin",
     "output_type": "stream",
     "text": [
      "Enter your choice (1-6):  4\n"
     ]
    },
    {
     "name": "stdout",
     "output_type": "stream",
     "text": [
      "\n",
      "Current products:\n",
      "Name: apple, Quantity: 2, Price: $4.00\n",
      "Name: bannana, Quantity: 29, Price: $2.00\n",
      "Name: grapes, Quantity: 23, Price: $12.00\n",
      "\n",
      "Products Management\n",
      "1. Add New Product\n",
      "2. Update Product Quantity\n",
      "3. Calculate Total Products Value\n",
      "4. Display Products\n",
      "5. Low Stock Report\n",
      "6. Exit\n"
     ]
    },
    {
     "name": "stdin",
     "output_type": "stream",
     "text": [
      "Enter your choice (1-6):  5\n"
     ]
    },
    {
     "name": "stdout",
     "output_type": "stream",
     "text": [
      "\n",
      "Low Stock Items:\n",
      "apple: 2 units\n",
      "\n",
      "Products Management\n",
      "1. Add New Product\n",
      "2. Update Product Quantity\n",
      "3. Calculate Total Products Value\n",
      "4. Display Products\n",
      "5. Low Stock Report\n",
      "6. Exit\n"
     ]
    },
    {
     "name": "stdin",
     "output_type": "stream",
     "text": [
      "Enter your choice (1-6):  6\n"
     ]
    },
    {
     "name": "stdout",
     "output_type": "stream",
     "text": [
      "Exiting the program.\n"
     ]
    }
   ],
   "source": [
    "#Practice excercise \"f\"\n",
    "products = {}\n",
    "\n",
    "def add_product(name, quantity, price):\n",
    "    if name in products:\n",
    "        print(f\"Product '{name}' already exists. Use update_quantity to modify.\")\n",
    "    else:\n",
    "        products[name] = {'quantity': quantity, 'price': price}\n",
    "        print(f\"Product '{name}' added successfully.\")\n",
    "\n",
    "def update_quantity(name, quantity):\n",
    "    if name in products:\n",
    "        products[name]['quantity'] += quantity\n",
    "        print(f\"Updated quantity of '{name}' to {products[name]['quantity']}.\")\n",
    "    else:\n",
    "        print(f\"Product '{name}' does not exist. Use add_product to add it first.\")\n",
    "\n",
    "def calculate_total_value():\n",
    "    total_value = 0\n",
    "    for product, details in products.items():\n",
    "        total_value += details['quantity'] * details['price']\n",
    "    return total_value\n",
    "\n",
    "def display_products():\n",
    "    if products:\n",
    "        print(\"\\nCurrent products:\")\n",
    "        for product, details in products.items():\n",
    "            print(f\"Name: {product}, Quantity: {details['quantity']}, Price: ${details['price']:.2f}\")\n",
    "    else:\n",
    "        print(\"No products available.\")\n",
    "\n",
    "def low_stock_report(threshold=10):\n",
    "    low_stock_items = []\n",
    "    for product, details in products.items():\n",
    "        if details['quantity'] <= threshold:\n",
    "            low_stock_items.append((product, details['quantity']))\n",
    "    \n",
    "    if low_stock_items:\n",
    "        print(\"\\nLow Stock Items:\")\n",
    "        for item in low_stock_items:\n",
    "            print(f\"{item[0]}: {item[1]} units\")\n",
    "    else:\n",
    "        print(\"No low-stock items.\")\n",
    "\n",
    "while True:\n",
    "    print(\"\\nProducts Management\")\n",
    "    print(\"1. Add New Product\")\n",
    "    print(\"2. Update Product Quantity\")\n",
    "    print(\"3. Calculate Total Products Value\")\n",
    "    print(\"4. Display Products\")\n",
    "    print(\"5. Low Stock Report\")\n",
    "    print(\"6. Exit\")\n",
    "\n",
    "    choice = input(\"Enter your choice (1-6): \")\n",
    "\n",
    "    if choice == '1':\n",
    "        name = input(\"Enter product name: \")\n",
    "        quantity = int(input(\"Enter product quantity: \"))\n",
    "        price = float(input(\"Enter product price: \"))\n",
    "        add_product(name, quantity, price)\n",
    "    elif choice == '2':\n",
    "        name = input(\"Enter product name: \")\n",
    "        quantity = int(input(\"Enter quantity to add: \"))\n",
    "        update_quantity(name, quantity)\n",
    "    elif choice == '3':\n",
    "        total_value = calculate_total_value()\n",
    "        print(f\"Total products value: ${total_value:.2f}\")\n",
    "    elif choice == '4':\n",
    "        display_products()\n",
    "    elif choice == '5':\n",
    "        low_stock_report(10)\n",
    "    elif choice == '6':\n",
    "        print(\"Exiting the program.\")\n",
    "        break\n",
    "    else:\n",
    "        print(\"Invalid choice. Please try again.\")\n"
   ]
  },
  {
   "cell_type": "code",
   "execution_count": null,
   "id": "183a45ad-b1b0-40be-9ace-7f5cb8365360",
   "metadata": {},
   "outputs": [],
   "source": [
    "#Practice excercise \"g\"\n",
    "students = {}\n",
    "\n",
    "def add_student(name, grades):\n",
    "    students[name] = grades\n",
    "\n",
    "def calculate_average(name):\n",
    "    grades = students[name]\n",
    "    return sum(grades.values()) / len(grades)\n",
    "\n",
    "def highest_lowest_grade(subject):\n",
    "    highest = None\n",
    "    lowest = None\n",
    "    for student, grades in students.items():\n",
    "        if subject in grades:\n",
    "            grade = grades[subject]\n",
    "            if highest is None or grade > highest:\n",
    "                highest = grade\n",
    "            if lowest is None or grade < lowest:\n",
    "                lowest = grade\n",
    "    return highest, lowest\n",
    "\n",
    "def sort_students_by_average():\n",
    "    sorted_students = sorted(students.items(), key=lambda x: sum(x[1].values()) / len(x[1].values()), reverse=True)\n",
    "    return sorted_students\n",
    "\n",
    "add_student(\"Alice\", {\"Math\": 85, \"Physics\": 90, \"Chemistry\": 88})\n",
    "add_student(\"Bob\", {\"Math\": 78, \"Physics\": 82, \"Chemistry\": 84})\n",
    "add_student(\"Charlie\", {\"Math\": 92, \"Physics\": 95, \"Chemistry\": 89})\n",
    "\n",
    "for student in students:\n",
    "    print(f\"{student}'s Average Grade: {calculate_average(student):.2f}\")\n",
    "\n",
    "subject = \"Math\"\n",
    "highest, lowest = highest_lowest_grade(subject)\n",
    "print(f\"\\nHighest and Lowest grades in {subject}: {highest}, {lowest}\")\n",
    "\n",
    "sorted_students = sort_students_by_average()\n",
    "print(\"\\nStudents sorted by average grade:\")\n",
    "for student, grades in sorted_students:\n",
    "    print(f\"{student}: Average Grade = {calculate_average(student):.2f}\")\n"
   ]
  },
  {
   "cell_type": "code",
   "execution_count": 57,
   "id": "0fc4ec9a-8870-4ae2-bfc9-299d8e5e7a17",
   "metadata": {},
   "outputs": [
    {
     "name": "stdout",
     "output_type": "stream",
     "text": [
      "\n",
      "1. Add to Cart | 2. Remove from Cart | 3. View Cart | 4. Total | 5. Apply Discount & Tax | 6. Exit\n"
     ]
    },
    {
     "name": "stdin",
     "output_type": "stream",
     "text": [
      "Choose an option:  1\n",
      "Enter product:  yoohoo\n",
      "Enter quantity:  22\n"
     ]
    },
    {
     "name": "stdout",
     "output_type": "stream",
     "text": [
      "Not enough stock or product not found.\n",
      "\n",
      "1. Add to Cart | 2. Remove from Cart | 3. View Cart | 4. Total | 5. Apply Discount & Tax | 6. Exit\n"
     ]
    },
    {
     "name": "stdin",
     "output_type": "stream",
     "text": [
      "Choose an option:  6\n"
     ]
    }
   ],
   "source": [
    "#Practice excercise \"h\"\n",
    "products = {\n",
    "    \"Laptop\": {\"price\": 1000, \"quantity\": 10},\n",
    "    \"Phone\": {\"price\": 500, \"quantity\": 15},\n",
    "    \"Mouse\": {\"price\": 20, \"quantity\": 50},\n",
    "    \"Keyboard\": {\"price\": 50, \"quantity\": 30}\n",
    "}\n",
    "\n",
    "cart = {}\n",
    "\n",
    "def update_cart(product, quantity):\n",
    "    if product in products and products[product][\"quantity\"] >= quantity:\n",
    "        cart[product] = cart.get(product, {\"price\": products[product][\"price\"], \"quantity\": 0})\n",
    "        cart[product][\"quantity\"] += quantity\n",
    "        products[product][\"quantity\"] -= quantity\n",
    "    else:\n",
    "        print(\"Not enough stock or product not found.\")\n",
    "\n",
    "def calculate_total():\n",
    "    return sum(item[\"price\"] * item[\"quantity\"] for item in cart.values())\n",
    "\n",
    "def apply_discount_and_tax(total, discount=0, tax=10):\n",
    "    return total * (1 - discount / 100) * (1 + tax / 100)\n",
    "\n",
    "while True:\n",
    "    print(\"\\n1. Add to Cart | 2. Remove from Cart | 3. View Cart | 4. Total | 5. Apply Discount & Tax | 6. Exit\")\n",
    "    choice = input(\"Choose an option: \")\n",
    "\n",
    "    if choice == '1':\n",
    "        product = input(\"Enter product: \")\n",
    "        quantity = int(input(\"Enter quantity: \"))\n",
    "        update_cart(product, quantity)\n",
    "    elif choice == '2':\n",
    "        product = input(\"Enter product: \")\n",
    "        quantity = int(input(\"Enter quantity to remove: \"))\n",
    "        update_cart(product, -quantity)\n",
    "    elif choice == '3':\n",
    "        print(cart)\n",
    "    elif choice == '4':\n",
    "        total = calculate_total()\n",
    "        print(f\"Total: ${total:.2f}\")\n",
    "    elif choice == '5':\n",
    "        total = calculate_total()\n",
    "        discount = float(input(\"Enter discount percentage: \"))\n",
    "        final_cost = apply_discount_and_tax(total, discount)\n",
    "        print(f\"Final cost: ${final_cost:.2f}\")\n",
    "    elif choice == '6':\n",
    "        break\n",
    "    else:\n",
    "        print(\"Invalid option.\")\n"
   ]
  },
  {
   "cell_type": "code",
   "execution_count": null,
   "id": "f34a619e-5ccb-4205-b023-9f9e372afac9",
   "metadata": {},
   "outputs": [],
   "source": []
  }
 ],
 "metadata": {
  "kernelspec": {
   "display_name": "Python 3 (ipykernel)",
   "language": "python",
   "name": "python3"
  },
  "language_info": {
   "codemirror_mode": {
    "name": "ipython",
    "version": 3
   },
   "file_extension": ".py",
   "mimetype": "text/x-python",
   "name": "python",
   "nbconvert_exporter": "python",
   "pygments_lexer": "ipython3",
   "version": "3.9.20"
  }
 },
 "nbformat": 4,
 "nbformat_minor": 5
}
