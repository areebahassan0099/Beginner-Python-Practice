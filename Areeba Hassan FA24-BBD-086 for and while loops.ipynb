{
 "cells": [
  {
   "cell_type": "code",
   "execution_count": 1,
   "id": "025f03e6-51b7-4c62-9dfd-a2e9737be580",
   "metadata": {},
   "outputs": [
    {
     "name": "stdout",
     "output_type": "stream",
     "text": [
      "1\n",
      "2\n",
      "3\n",
      "4\n",
      "5\n",
      "6\n",
      "7\n",
      "8\n",
      "9\n",
      "10\n"
     ]
    }
   ],
   "source": [
    "for i in range(1, 11):\n",
    "    print(i)"
   ]
  },
  {
   "cell_type": "code",
   "execution_count": 7,
   "id": "c896b806-4f61-4ad5-95f1-4d37bfca4305",
   "metadata": {},
   "outputs": [
    {
     "name": "stdout",
     "output_type": "stream",
     "text": [
      "Sum of the first 20 natural numbers is: 210\n"
     ]
    }
   ],
   "source": [
    "n = 1\n",
    "total= 0\n",
    "while n<= 20:\n",
    "    total += n\n",
    "    n+= 1\n",
    "print(\"Sum of the first 20 natural numbers is:\", total)"
   ]
  },
  {
   "cell_type": "code",
   "execution_count": 9,
   "id": "f48693ea-d1a8-4fc2-b8dd-d8bd4c866650",
   "metadata": {},
   "outputs": [
    {
     "name": "stdin",
     "output_type": "stream",
     "text": [
      "Enter a string:  apples are nice\n"
     ]
    },
    {
     "name": "stdout",
     "output_type": "stream",
     "text": [
      "a\n",
      "p\n",
      "p\n",
      "l\n",
      "e\n",
      "s\n",
      " \n",
      "a\n",
      "r\n",
      "e\n",
      " \n",
      "n\n",
      "i\n",
      "c\n",
      "e\n"
     ]
    }
   ],
   "source": [
    "user_string = input(\"Enter a string: \")\n",
    "for char in user_string:\n",
    "    print(char)\n"
   ]
  },
  {
   "cell_type": "code",
   "execution_count": 11,
   "id": "dc292bf5-2357-4c5c-b498-1cfc36bcd794",
   "metadata": {},
   "outputs": [
    {
     "name": "stdin",
     "output_type": "stream",
     "text": [
      "Enter a number to count down from:  15\n"
     ]
    },
    {
     "name": "stdout",
     "output_type": "stream",
     "text": [
      "15\n",
      "14\n",
      "13\n",
      "12\n",
      "11\n",
      "10\n",
      "9\n",
      "8\n",
      "7\n",
      "6\n",
      "5\n",
      "4\n",
      "3\n",
      "2\n",
      "1\n",
      "0\n"
     ]
    }
   ],
   "source": [
    "number = int(input(\"Enter a number to count down from: \"))\n",
    "while number >= 0:\n",
    "    print(number)\n",
    "    number -= 1\n"
   ]
  },
  {
   "cell_type": "code",
   "execution_count": 13,
   "id": "b0954c36-c8c1-4c7d-911e-c0c68c5f7414",
   "metadata": {},
   "outputs": [
    {
     "name": "stdout",
     "output_type": "stream",
     "text": [
      "2\n",
      "4\n",
      "6\n",
      "8\n",
      "10\n",
      "12\n",
      "14\n",
      "16\n",
      "18\n",
      "20\n",
      "22\n",
      "24\n",
      "26\n",
      "28\n",
      "30\n",
      "32\n",
      "34\n",
      "36\n",
      "38\n",
      "40\n",
      "42\n",
      "44\n",
      "46\n",
      "48\n",
      "50\n"
     ]
    }
   ],
   "source": [
    "for i in range(1, 51):\n",
    "    if i % 2 == 0:\n",
    "        print(i)\n"
   ]
  },
  {
   "cell_type": "code",
   "execution_count": 15,
   "id": "df353c18-75d5-42bd-89f0-0af64d4fe920",
   "metadata": {},
   "outputs": [
    {
     "name": "stdin",
     "output_type": "stream",
     "text": [
      "Enter a number:  12\n"
     ]
    },
    {
     "name": "stdout",
     "output_type": "stream",
     "text": [
      "12 x 1 = 12\n",
      "12 x 2 = 24\n",
      "12 x 3 = 36\n",
      "12 x 4 = 48\n",
      "12 x 5 = 60\n",
      "12 x 6 = 72\n",
      "12 x 7 = 84\n",
      "12 x 8 = 96\n",
      "12 x 9 = 108\n",
      "12 x 10 = 120\n"
     ]
    }
   ],
   "source": [
    "number = int(input(\"Enter a number: \"))\n",
    "for i in range(1, 11):\n",
    "    print(f\"{number} x {i} = {number * i}\")\n"
   ]
  },
  {
   "cell_type": "code",
   "execution_count": 17,
   "id": "d7627a58-7b08-4f17-bb29-a04d6af82641",
   "metadata": {},
   "outputs": [
    {
     "name": "stdin",
     "output_type": "stream",
     "text": [
      "Enter a positive integer:  10\n"
     ]
    },
    {
     "name": "stdout",
     "output_type": "stream",
     "text": [
      "Factorial: 3628800\n"
     ]
    }
   ],
   "source": [
    "number = int(input(\"Enter a positive integer: \"))\n",
    "factorial = 1\n",
    "i = 1\n",
    "while i <= number:\n",
    "    factorial *= i\n",
    "    i += 1\n",
    "print(\"Factorial:\", factorial)\n"
   ]
  },
  {
   "cell_type": "code",
   "execution_count": 19,
   "id": "8d47a2c8-dd66-473f-b0c5-2c133fa4f1b4",
   "metadata": {},
   "outputs": [
    {
     "name": "stdin",
     "output_type": "stream",
     "text": [
      "Enter the start of the range:  1\n",
      "Enter the end of the range:  13\n"
     ]
    },
    {
     "name": "stdout",
     "output_type": "stream",
     "text": [
      "Sum of all odd numbers: 49\n"
     ]
    }
   ],
   "source": [
    "start = int(input(\"Enter the start of the range: \"))\n",
    "end = int(input(\"Enter the end of the range: \"))\n",
    "odd_sum = sum(i for i in range(start, end + 1) if i % 2 != 0)\n",
    "print(\"Sum of all odd numbers:\", odd_sum)\n"
   ]
  },
  {
   "cell_type": "code",
   "execution_count": 21,
   "id": "55316aa3-5489-44ae-9f28-964fb26ccc7c",
   "metadata": {},
   "outputs": [
    {
     "name": "stdout",
     "output_type": "stream",
     "text": [
      "15\n",
      "30\n",
      "45\n",
      "60\n",
      "75\n",
      "90\n"
     ]
    }
   ],
   "source": [
    "for i in range(1, 101):\n",
    "    if i % 3 == 0 and i % 5 == 0:\n",
    "        print(i)\n"
   ]
  },
  {
   "cell_type": "code",
   "execution_count": 23,
   "id": "aa07dedb-f2b1-44df-890e-0a426feff193",
   "metadata": {},
   "outputs": [
    {
     "name": "stdout",
     "output_type": "stream",
     "text": [
      "0\n",
      "1\n",
      "1\n",
      "2\n",
      "3\n",
      "5\n",
      "8\n",
      "13\n",
      "21\n",
      "34\n"
     ]
    }
   ],
   "source": [
    "a, b = 0, 1\n",
    "count = 0\n",
    "while count < 10:\n",
    "    print(a)\n",
    "    a, b = b, a + b\n",
    "    count += 1\n"
   ]
  },
  {
   "cell_type": "code",
   "execution_count": 25,
   "id": "d4f9ddf0-db11-49b3-8490-64716c5fa4e4",
   "metadata": {},
   "outputs": [
    {
     "name": "stdin",
     "output_type": "stream",
     "text": [
      "Enter a number:  20\n"
     ]
    },
    {
     "name": "stdout",
     "output_type": "stream",
     "text": [
      "Sum of digits: 2\n"
     ]
    }
   ],
   "source": [
    "number = int(input(\"Enter a number: \"))\n",
    "digit_sum = 0\n",
    "while number > 0:\n",
    "    digit_sum += number % 10\n",
    "    number //= 10\n",
    "print(\"Sum of digits:\", digit_sum)\n"
   ]
  },
  {
   "cell_type": "code",
   "execution_count": 27,
   "id": "84b0ff29-ce92-4b3f-8d62-2ff75aef5c1f",
   "metadata": {},
   "outputs": [
    {
     "name": "stdin",
     "output_type": "stream",
     "text": [
      "Enter the principal amount:  200\n",
      "Enter the interest rate:  3\n"
     ]
    },
    {
     "name": "stdout",
     "output_type": "stream",
     "text": [
      "Year 1: Compound Interest = 6.00\n",
      "Year 2: Compound Interest = 12.18\n",
      "Year 3: Compound Interest = 18.55\n",
      "Year 4: Compound Interest = 25.10\n",
      "Year 5: Compound Interest = 31.85\n"
     ]
    }
   ],
   "source": [
    "principal = float(input(\"Enter the principal amount: \"))\n",
    "rate = float(input(\"Enter the interest rate: \"))\n",
    "years = 5\n",
    "for year in range(1, years + 1):\n",
    "    amount = principal * ((1 + rate / 100) ** year)\n",
    "    print(f\"Year {year}: Compound Interest = {amount - principal:.2f}\")\n"
   ]
  },
  {
   "cell_type": "code",
   "execution_count": 29,
   "id": "d1603382-395a-4e42-9d9c-9a04274b6985",
   "metadata": {},
   "outputs": [
    {
     "name": "stdin",
     "output_type": "stream",
     "text": [
      "Enter a string:  apple\\\n"
     ]
    },
    {
     "name": "stdout",
     "output_type": "stream",
     "text": [
      "Reversed string: \\elppa\n"
     ]
    }
   ],
   "source": [
    "user_string = input(\"Enter a string: \")\n",
    "reversed_string = \"\"\n",
    "for char in user_string:\n",
    "    reversed_string = char + reversed_string\n",
    "print(\"Reversed string:\", reversed_string)\n"
   ]
  },
  {
   "cell_type": "code",
   "execution_count": 31,
   "id": "9f453299-5adb-4ed2-8e9b-46d3915e20ef",
   "metadata": {},
   "outputs": [
    {
     "name": "stdin",
     "output_type": "stream",
     "text": [
      "Enter numbers separated by spaces:  12 13 14 10 9 11 4\n"
     ]
    },
    {
     "name": "stdout",
     "output_type": "stream",
     "text": [
      "Minimum value: 4\n",
      "Maximum value: 14\n"
     ]
    }
   ],
   "source": [
    "numbers = list(map(int, input(\"Enter numbers separated by spaces: \").split()))\n",
    "min_value = min(numbers)\n",
    "max_value = max(numbers)\n",
    "print(\"Minimum value:\", min_value)\n",
    "print(\"Maximum value:\", max_value)\n"
   ]
  },
  {
   "cell_type": "code",
   "execution_count": 33,
   "id": "8c3f315c-f3c5-4e40-890d-c3b871a407d9",
   "metadata": {},
   "outputs": [
    {
     "name": "stdin",
     "output_type": "stream",
     "text": [
      "Guess the secret number (between 1 and 100):  12\n"
     ]
    },
    {
     "name": "stdout",
     "output_type": "stream",
     "text": [
      "Too low!\n"
     ]
    },
    {
     "name": "stdin",
     "output_type": "stream",
     "text": [
      "Guess the secret number (between 1 and 100):  11\n"
     ]
    },
    {
     "name": "stdout",
     "output_type": "stream",
     "text": [
      "Too low!\n"
     ]
    },
    {
     "name": "stdin",
     "output_type": "stream",
     "text": [
      "Guess the secret number (between 1 and 100):  90\n"
     ]
    },
    {
     "name": "stdout",
     "output_type": "stream",
     "text": [
      "Too high!\n"
     ]
    },
    {
     "name": "stdin",
     "output_type": "stream",
     "text": [
      "Guess the secret number (between 1 and 100):  80\n"
     ]
    },
    {
     "name": "stdout",
     "output_type": "stream",
     "text": [
      "Too high!\n"
     ]
    },
    {
     "name": "stdin",
     "output_type": "stream",
     "text": [
      "Guess the secret number (between 1 and 100):  70\n"
     ]
    },
    {
     "name": "stdout",
     "output_type": "stream",
     "text": [
      "Too high!\n"
     ]
    },
    {
     "name": "stdin",
     "output_type": "stream",
     "text": [
      "Guess the secret number (between 1 and 100):  60\n"
     ]
    },
    {
     "name": "stdout",
     "output_type": "stream",
     "text": [
      "Too low!\n"
     ]
    },
    {
     "name": "stdin",
     "output_type": "stream",
     "text": [
      "Guess the secret number (between 1 and 100):  61\n"
     ]
    },
    {
     "name": "stdout",
     "output_type": "stream",
     "text": [
      "Too low!\n"
     ]
    },
    {
     "name": "stdin",
     "output_type": "stream",
     "text": [
      "Guess the secret number (between 1 and 100):  65\n"
     ]
    },
    {
     "name": "stdout",
     "output_type": "stream",
     "text": [
      "Too high!\n"
     ]
    },
    {
     "name": "stdin",
     "output_type": "stream",
     "text": [
      "Guess the secret number (between 1 and 100):  63\n"
     ]
    },
    {
     "name": "stdout",
     "output_type": "stream",
     "text": [
      "Too low!\n"
     ]
    },
    {
     "name": "stdin",
     "output_type": "stream",
     "text": [
      "Guess the secret number (between 1 and 100):  64\n"
     ]
    },
    {
     "name": "stdout",
     "output_type": "stream",
     "text": [
      "Correct! The secret number was 64. You took 10 attempts.\n"
     ]
    }
   ],
   "source": [
    "import random\n",
    "secret_number = random.randint(1, 10)\n",
    "guess = None\n",
    "attempts = 0\n",
    "while guess != secret_number:\n",
    "    guess = int(input(\"Guess the secret number (between 1 and 100): \"))\n",
    "    attempts += 1\n",
    "    if guess < secret_number:\n",
    "        print(\"Too low!\")\n",
    "    elif guess > secret_number:\n",
    "        print(\"Too high!\")\n",
    "print(f\"Correct! The secret number was {secret_number}. You took {attempts} attempts.\")\n"
   ]
  },
  {
   "cell_type": "code",
   "execution_count": 35,
   "id": "80ea710f-a04a-4da7-8352-dc26dc0f0377",
   "metadata": {},
   "outputs": [
    {
     "name": "stdout",
     "output_type": "stream",
     "text": [
      "11\n",
      "13\n",
      "17\n",
      "19\n",
      "23\n",
      "29\n",
      "31\n",
      "37\n"
     ]
    }
   ],
   "source": [
    "for num in range(10, 41):\n",
    "    is_prime = True\n",
    "    for i in range(2, int(num**0.5) + 1):\n",
    "        if num % i == 0:\n",
    "            is_prime = False\n",
    "            break\n",
    "    if is_prime:\n",
    "        print(num)\n"
   ]
  },
  {
   "cell_type": "code",
   "execution_count": 39,
   "id": "e447fb64-38c6-4291-acd4-bda056f15c6e",
   "metadata": {},
   "outputs": [
    {
     "name": "stdin",
     "output_type": "stream",
     "text": [
      "Enter a number:  1551\n"
     ]
    },
    {
     "name": "stdout",
     "output_type": "stream",
     "text": [
      "It's a palindrome.\n"
     ]
    }
   ],
   "source": [
    "number = int(input(\"Enter a number: \"))\n",
    "original_number = number\n",
    "reversed_number = 0\n",
    "while number > 0:\n",
    "    reversed_number = reversed_number * 10 + number % 10\n",
    "    number //= 10\n",
    "if original_number == reversed_number:\n",
    "    print(\"It's a palindrome.\")\n",
    "else:\n",
    "    print(\"It's not a palindrome.\")\n"
   ]
  },
  {
   "cell_type": "code",
   "execution_count": 41,
   "id": "c2479fff-7eb5-4c77-90bf-e1587a160b98",
   "metadata": {},
   "outputs": [
    {
     "name": "stdout",
     "output_type": "stream",
     "text": [
      "Selling 1 apples. Remaining: 4\n",
      "Selling 1 apples. Remaining: 3\n",
      "Selling 1 apples. Remaining: 2\n",
      "Selling 1 apples. Remaining: 1\n",
      "Selling 1 apples. Remaining: 0\n",
      "apples is sold out.\n",
      "Selling 1 oranges. Remaining: 2\n",
      "Selling 1 oranges. Remaining: 1\n",
      "Selling 1 oranges. Remaining: 0\n",
      "oranges is sold out.\n",
      "Selling 1 bananas. Remaining: 6\n",
      "Selling 1 bananas. Remaining: 5\n",
      "Selling 1 bananas. Remaining: 4\n",
      "Selling 1 bananas. Remaining: 3\n",
      "Selling 1 bananas. Remaining: 2\n",
      "Selling 1 bananas. Remaining: 1\n",
      "Selling 1 bananas. Remaining: 0\n",
      "bananas is sold out.\n"
     ]
    }
   ],
   "source": [
    "items = {\"apples\": 5, \"oranges\": 3, \"bananas\": 7}\n",
    "for item, quantity in items.items():\n",
    "    while quantity > 0:\n",
    "        print(f\"Selling 1 {item}. Remaining: {quantity - 1}\")\n",
    "        quantity -= 1\n",
    "    print(f\"{item} is sold out.\")\n"
   ]
  },
  {
   "cell_type": "code",
   "execution_count": 45,
   "id": "0ee20d6a-f8a4-4d4b-adea-0a2cb2e919c0",
   "metadata": {},
   "outputs": [
    {
     "name": "stdout",
     "output_type": "stream",
     "text": [
      "Total project cost: 1795\n",
      "Number of expenses covered: 4, Remaining budget: 1205\n"
     ]
    }
   ],
   "source": [
    "expenses = [120, 25, 750, 900]\n",
    "budget = 3000\n",
    "total_expense = 0\n",
    "for expense in expenses:\n",
    "    total_expense += expense\n",
    "print(\"Total project cost:\", total_expense)\n",
    "covered_expenses = 0\n",
    "while budget > 0 and covered_expenses < len(expenses):\n",
    "    budget -= expenses[covered_expenses]\n",
    "    covered_expenses += 1\n",
    "print(f\"Number of expenses covered: {covered_expenses}, Remaining budget: {budget}\")\n"
   ]
  },
  {
   "cell_type": "code",
   "execution_count": 56,
   "id": "45931b13-d6ff-41ed-bd2a-ad54dbd35f52",
   "metadata": {},
   "outputs": [
    {
     "name": "stdout",
     "output_type": "stream",
     "text": [
      "Sara attended.\n",
      "Reminder 1 sent to Ammar.\n",
      "Ammar attended.\n",
      "Reminder 1 sent to Sheryar.\n",
      "Sheryar attended.\n",
      "Ramsha attended.\n"
     ]
    }
   ],
   "source": [
    "import random\n",
    "employees = [\"Sara\", \"Ammar\", \"Sheryar\", \"Ramsha\"]\n",
    "for employee in employees:\n",
    "    attempts = 0\n",
    "    while attempts < 3:\n",
    "        if random.choice([True, False]):\n",
    "            print(f\"{employee} attended.\")\n",
    "            break\n",
    "        else:\n",
    "            print(f\"Reminder {attempts + 1} sent to {employee}.\")\n",
    "            attempts += 1\n"
   ]
  },
  {
   "cell_type": "code",
   "execution_count": 58,
   "id": "e20fa4d3-66eb-47b6-b1a0-1f578b841eee",
   "metadata": {},
   "outputs": [
    {
     "name": "stdin",
     "output_type": "stream",
     "text": [
      "Confirm details for transaction 1 (type 'yes' to confirm):  100\n",
      "Confirm details for transaction 1 (type 'yes' to confirm):  12\n",
      "Confirm details for transaction 1 (type 'yes' to confirm):  yes\n",
      "Confirm details for transaction 2 (type 'yes' to confirm):  yes\n"
     ]
    },
    {
     "name": "stdout",
     "output_type": "stream",
     "text": [
      "All transactions confirmed.\n"
     ]
    }
   ],
   "source": [
    "transactions = [{\"id\": 1, \"amount\": 1000}, {\"id\": 2, \"amount\": 250}]\n",
    "for transaction in transactions:\n",
    "    confirmation = \"\"\n",
    "    while confirmation.lower() != \"yes\":\n",
    "        confirmation = input(f\"Confirm details for transaction {transaction['id']} (type 'yes' to confirm): \")\n",
    "print(\"All transactions confirmed.\")\n"
   ]
  },
  {
   "cell_type": "code",
   "execution_count": 60,
   "id": "a5a1d9c0-9735-4d01-b55a-4be86ec8ee49",
   "metadata": {},
   "outputs": [
    {
     "name": "stdout",
     "output_type": "stream",
     "text": [
      "Resolved Issue 1 in 1 attempts.\n",
      "Resolved Issue 1 in 2 attempts.\n",
      "Resolved Issue 1 in 3 attempts.\n",
      "Resolved Issue 2 in 1 attempts.\n",
      "Resolved Issue 2 in 2 attempts.\n",
      "Resolved Issue 2 in 3 attempts.\n",
      "Resolved Issue 3 in 1 attempts.\n",
      "Resolved Issue 3 in 2 attempts.\n",
      "Resolved Issue 3 in 3 attempts.\n"
     ]
    }
   ],
   "source": [
    "issues = [\"Issue 1\", \"Issue 2\", \"Issue 3\"]\n",
    "for issue in issues[:10]:\n",
    "    attempts = 0\n",
    "    while attempts < 3:  # Simulate helping the customer\n",
    "        attempts += 1\n",
    "        resolved = True  # Assume resolution\n",
    "        print(f\"Resolved {issue} in {attempts} attempts.\")\n"
   ]
  },
  {
   "cell_type": "code",
   "execution_count": 68,
   "id": "c7e336ce-1d28-45c7-be3c-b6e141c8932b",
   "metadata": {},
   "outputs": [
    {
     "name": "stdout",
     "output_type": "stream",
     "text": [
      "Final grade: 75\n",
      "Final grade: 100\n",
      "Final grade: 100\n"
     ]
    }
   ],
   "source": [
    "scores = [75, 100, 105]\n",
    "for score in scores:\n",
    "    while score > 100:\n",
    "        score = 100\n",
    "    print(\"Final grade:\", score)"
   ]
  },
  {
   "cell_type": "code",
   "execution_count": 74,
   "id": "487c854f-cb8a-4776-9fd4-9e43ebd00bfc",
   "metadata": {},
   "outputs": [
    {
     "name": "stdin",
     "output_type": "stream",
     "text": [
      "Enter password:  wrrronggg\n",
      "Enter password:  apple\n",
      "Enter password:  last chanc\n"
     ]
    },
    {
     "name": "stdout",
     "output_type": "stream",
     "text": [
      "Account locked.\n"
     ]
    }
   ],
   "source": [
    "attempts = 0\n",
    "while attempts < 3:\n",
    "    if input(\"Enter password: \") == \"password\":\n",
    "        print(\"Login successful!\")\n",
    "        break\n",
    "    attempts += 1\n",
    "if attempts == 3:\n",
    "    print(\"Account locked.\")\n",
    "\n"
   ]
  },
  {
   "cell_type": "code",
   "execution_count": null,
   "id": "294489d8-525f-4f90-979e-b4503dfa55cc",
   "metadata": {},
   "outputs": [],
   "source": []
  }
 ],
 "metadata": {
  "kernelspec": {
   "display_name": "Python 3 (ipykernel)",
   "language": "python",
   "name": "python3"
  },
  "language_info": {
   "codemirror_mode": {
    "name": "ipython",
    "version": 3
   },
   "file_extension": ".py",
   "mimetype": "text/x-python",
   "name": "python",
   "nbconvert_exporter": "python",
   "pygments_lexer": "ipython3",
   "version": "3.12.4"
  }
 },
 "nbformat": 4,
 "nbformat_minor": 5
}
