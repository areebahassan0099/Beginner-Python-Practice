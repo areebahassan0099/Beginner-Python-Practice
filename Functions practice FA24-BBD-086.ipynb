{
 "cells": [
  {
   "cell_type": "code",
   "execution_count": null,
   "id": "ddf2caad-9c91-4bd0-9e2a-2b4de54e1a7c",
   "metadata": {},
   "outputs": [],
   "source": [
    "#Questions have been solved on pycharm and pasted here"
   ]
  },
  {
   "cell_type": "code",
   "execution_count": 1,
   "id": "1e94859d-c3b2-4623-a567-63664d7d2622",
   "metadata": {},
   "outputs": [
    {
     "name": "stdout",
     "output_type": "stream",
     "text": [
      "Hello, Areeba, the time is 13:18:59.\n"
     ]
    }
   ],
   "source": [
    "#Create a function named greet_with_time that takes a name as input and prints a greeting message along with the current time\n",
    "def greet_with_time(name):\n",
    "    from datetime import datetime\n",
    "    current_time = datetime.now().strftime(\"%H:%M:%S\")\n",
    "    print(f\"Hello, {name}, the time is {current_time}.\")\n",
    "greet_with_time(\"Areeba\")"
   ]
  },
  {
   "cell_type": "code",
   "execution_count": null,
   "id": "7e80cad5-01d8-46af-9fd3-de4e3371b376",
   "metadata": {},
   "outputs": [],
   "source": [
    "#Define a function calculate_discount that takes a price and a discount percentage as input. Set a default discount percentage of 10%.\n",
    "def calculate_discount(price, discount_percentage=10):\n",
    "    discounted_price = price - (price * discount_percentage / 100)\n",
    "    print(f\"discounted price: {discounted_price}\")\n",
    "calculate_discount(100) \n"
   ]
  },
  {
   "cell_type": "code",
   "execution_count": 3,
   "id": "e4fa2c23-9935-4f61-a22b-8f1bfdd907ef",
   "metadata": {},
   "outputs": [
    {
     "name": "stdout",
     "output_type": "stream",
     "text": [
      "The average is: 22.0\n"
     ]
    }
   ],
   "source": [
    "#Write a function called calculate_average that takes three numbers as input and returns their average.\n",
    "def calculate_average(num1, num2, num3):\n",
    "    return(num1 + num2 + num3)/3\n",
    "average = calculate_average(12, 24, 30)\n",
    "print(\"The average is:\", average)\n"
   ]
  },
  {
   "cell_type": "code",
   "execution_count": null,
   "id": "23c9b9d8-515d-408a-a752-0631346719b5",
   "metadata": {},
   "outputs": [],
   "source": [
    "#Create a function print_info that takes a name, age, and city as keyword arguments.\n",
    "def print_info(*, name, age, city):\n",
    "    print(f\"Name: {name}\")\n",
    "    print(f\"Age: {age}\")\n",
    "    print(f\"City: {city}\")\n",
    "print_info(name=\"Areeba\", age=19, city=\"Lahore\") \n"
   ]
  },
  {
   "cell_type": "code",
   "execution_count": 4,
   "id": "0f6ea6c9-41ea-4fcb-88c0-edfc5e966621",
   "metadata": {},
   "outputs": [
    {
     "name": "stdout",
     "output_type": "stream",
     "text": [
      "2\n",
      "24\n",
      "1\n"
     ]
    }
   ],
   "source": [
    "#Implement a recursive function to calculate the factorial of a number.\n",
    "def factorial(n):\n",
    "    if n == 0 or n == 1:  \n",
    "        return 1\n",
    "    else:\n",
    "        return n * factorial(n - 1) \n",
    "print(factorial(2))  \n",
    "print(factorial(4))  \n",
    "print(factorial(1))  \n"
   ]
  },
  {
   "cell_type": "code",
   "execution_count": null,
   "id": "00a0ac5b-9761-444d-a856-6b59bca28354",
   "metadata": {},
   "outputs": [],
   "source": [
    "#Create a lambda function to square a number.\n",
    "#Not able to understand the question\n"
   ]
  },
  {
   "cell_type": "code",
   "execution_count": null,
   "id": "f09f9e6f-d3e5-40ce-84d9-dfb88bf8efeb",
   "metadata": {},
   "outputs": [],
   "source": []
  },
  {
   "cell_type": "code",
   "execution_count": null,
   "id": "9c4ff70c-fb1e-4367-ae04-6080278c7603",
   "metadata": {},
   "outputs": [],
   "source": [
    "#Write a function apply_operation that takes a function and a list of numbers. Apply the function to each number and return a new list.\n",
    "def square(x):\n",
    "    return x * x\n",
    "def apply_operation(func, numbers):\n",
    "    return [func(num) for num in numbers]\n",
    "numbers = [11, 2, 5, 8, 4]\n",
    "squared_numbers = apply_operation(square, numbers)\n",
    "print(squared_numbers)  "
   ]
  }
 ],
 "metadata": {
  "kernelspec": {
   "display_name": "Python 3 (ipykernel)",
   "language": "python",
   "name": "python3"
  },
  "language_info": {
   "codemirror_mode": {
    "name": "ipython",
    "version": 3
   },
   "file_extension": ".py",
   "mimetype": "text/x-python",
   "name": "python",
   "nbconvert_exporter": "python",
   "pygments_lexer": "ipython3",
   "version": "3.9.20"
  }
 },
 "nbformat": 4,
 "nbformat_minor": 5
}
